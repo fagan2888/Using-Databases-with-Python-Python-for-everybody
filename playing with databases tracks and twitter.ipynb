{
 "cells": [
  {
   "cell_type": "code",
   "execution_count": 25,
   "metadata": {},
   "outputs": [
    {
     "name": "stdout",
     "output_type": "stream",
     "text": [
      "Overwriting tracks_db1.py\n"
     ]
    }
   ],
   "source": [
    "%%writefile tracks_db1.py\n",
    "\n",
    "import sqlite3\n",
    "\n",
    "#To use the module, you must first create a Connection object that represents the database. The reason this is called a \"connection\" is that sometimes the database is stored on a separate \"database server\" from the server on which we are running our application\n",
    "conn = sqlite3.connect('music.sqlite')\n",
    "# Once you have a Connection, you can create a Cursor object and call its execute() method to perform SQL commands\n",
    "cur = conn.cursor()\n",
    "\n",
    "#  the SQL keywords in uppercase and the parts of the command that we are adding (such as the table and column names) will be shown in lowercase.\n",
    "# The first SQL command removes the Tracks table from the database if it exists.no undo. every thing gets deleted\n",
    "cur.execute('DROP TABLE IF EXISTS Tracks')\n",
    "cur.execute('CREATE TABLE Tracks (title TEXT, plays INTEGER)')\n",
    "#commit the changes\n",
    "conn.commit()\n",
    "\n",
    "#? is a placeholder much like %s or %d in C\n",
    "\n",
    "cur.execute('INSERT INTO Tracks (title, plays) VALUES (?, ?)',\n",
    "    ('Thunderstruck', 20))\n",
    "cur.execute('INSERT INTO Tracks (title, plays) VALUES (?, ?)',\n",
    "    ('My Way', 15))\n",
    "conn.commit()\n",
    "\n",
    "print('Tracks:')\n",
    "cur.execute('SELECT title, plays FROM Tracks')\n",
    "for row in cur:\n",
    "     print(row)\n",
    "\n",
    "cur.execute('DELETE FROM Tracks WHERE plays > 100')\n",
    "conn.commit()\n",
    "\n",
    "\n",
    "conn.close()"
   ]
  },
  {
   "cell_type": "code",
   "execution_count": 24,
   "metadata": {},
   "outputs": [
    {
     "name": "stdout",
     "output_type": "stream",
     "text": [
      "Tracks:\n",
      "('Thunderstruck', 20)\n",
      "('My Way', 15)\n"
     ]
    }
   ],
   "source": [
    "# %load tracks_db1.py\n",
    "\n",
    "import sqlite3\n",
    "\n",
    "#To use the module, you must first create a Connection object that represents the database. The reason this is called a \"connection\" is that sometimes the database is stored on a separate \"database server\" from the server on which we are running our application\n",
    "conn = sqlite3.connect('music.sqlite')\n",
    "# Once you have a Connection, you can create a Cursor object and call its execute() method to perform SQL commands\n",
    "cur = conn.cursor()\n",
    "\n",
    "#  the SQL keywords in uppercase and the parts of the command that we are adding (such as the table and column names) will be shown in lowercase.\n",
    "# The first SQL command removes the Tracks table from the database if it exists.no undo. every thing gets deleted\n",
    "cur.execute('DROP TABLE IF EXISTS Tracks')\n",
    "cur.execute('CREATE TABLE Tracks (title TEXT, plays INTEGER)')\n",
    "#commit the changes\n",
    "conn.commit()\n",
    "\n",
    "#? is a placeholder much like %s or %d in C\n",
    "\n",
    "cur.execute('INSERT INTO Tracks (title, plays) VALUES (?, ?)',\n",
    "    ('Thunderstruck', 20))\n",
    "cur.execute('INSERT INTO Tracks (title, plays) VALUES (?, ?)',\n",
    "    ('My Way', 15))\n",
    "conn.commit()\n",
    "\n",
    "print('Tracks:')\n",
    "cur.execute('SELECT title, plays FROM Tracks')\n",
    "for row in cur:\n",
    "     print(row)\n",
    "\n",
    "cur.execute('DELETE FROM Tracks WHERE plays > 100')\n",
    "conn.commit()\n",
    "\n",
    "\n",
    "conn.close()"
   ]
  },
  {
   "cell_type": "code",
   "execution_count": 28,
   "metadata": {},
   "outputs": [
    {
     "name": "stdout",
     "output_type": "stream",
     "text": [
      "('My Way', 15)\n"
     ]
    }
   ],
   "source": [
    "conn = sqlite3.connect('music.sqlite')\n",
    "cur = conn.cursor()\n",
    "\n",
    "cur.execute(\"SELECT * FROM Tracks WHERE title = 'My Way'\")\n",
    "for row in cur:\n",
    "    print(row)"
   ]
  },
  {
   "cell_type": "code",
   "execution_count": 30,
   "metadata": {},
   "outputs": [
    {
     "name": "stdout",
     "output_type": "stream",
     "text": [
      "('My Way', 15)\n",
      "('Thunderstruck', 20)\n"
     ]
    }
   ],
   "source": [
    "cur.execute(\"SELECT title,plays FROM Tracks ORDER BY title\")\n",
    "for row in cur:\n",
    "    print(row)"
   ]
  },
  {
   "cell_type": "code",
   "execution_count": 40,
   "metadata": {},
   "outputs": [
    {
     "data": {
      "text/plain": [
       "<sqlite3.Cursor at 0x2746f9b08f0>"
      ]
     },
     "execution_count": 40,
     "metadata": {},
     "output_type": "execute_result"
    }
   ],
   "source": [
    "cur.execute(\"DELETE FROM Tracks WHERE title = 'My Way'\")"
   ]
  },
  {
   "cell_type": "code",
   "execution_count": 38,
   "metadata": {},
   "outputs": [
    {
     "data": {
      "text/plain": [
       "<sqlite3.Cursor at 0x2746f9b08f0>"
      ]
     },
     "execution_count": 38,
     "metadata": {},
     "output_type": "execute_result"
    }
   ],
   "source": [
    "cur.execute(\"INSERT INTO Tracks (title,plays) VALUES (?,?)\",('My Way',10))\n",
    "cur.execute(\"UPDATE Tracks SET plays = 16 WHERE title = 'My Way'\")"
   ]
  },
  {
   "cell_type": "code",
   "execution_count": 41,
   "metadata": {},
   "outputs": [
    {
     "name": "stdout",
     "output_type": "stream",
     "text": [
      "('My Way', 16)\n",
      "('Thunderstruck', 20)\n"
     ]
    }
   ],
   "source": [
    "cur.execute(\"SELECT title,plays FROM Tracks ORDER BY title\")\n",
    "for row in cur:\n",
    "    print(row)"
   ]
  },
  {
   "cell_type": "markdown",
   "metadata": {},
   "source": [
    "## Spidering Twitter using a database\n"
   ]
  },
  {
   "cell_type": "markdown",
   "metadata": {},
   "source": [
    "One of the problems of any kind of spidering program is that it needs to be able to be stopped and restarted many times and you do not want to lose the data that you have retrieved so far. You don't want to always restart your data retrieval at the very beginning so we want to store data as we retrieve it so our program can start back up and pick up where it left off."
   ]
  },
  {
   "cell_type": "markdown",
   "metadata": {},
   "source": [
    "twurl is a gem from ruby. we use [rython](https://pypi.org/project/rython/) to wrap around that gem and import it into python"
   ]
  },
  {
   "cell_type": "code",
   "execution_count": 6,
   "metadata": {},
   "outputs": [],
   "source": [
    "# !pip install rython"
   ]
  },
  {
   "cell_type": "code",
   "execution_count": 5,
   "metadata": {
    "scrolled": true
   },
   "outputs": [],
   "source": [
    "# import rython\n",
    "# ctx = rython.RubyContext(requires=[\"rubygems\", \"twurl\"])\n",
    "# but rython has syntax errors, oh man!"
   ]
  },
  {
   "cell_type": "code",
   "execution_count": 42,
   "metadata": {},
   "outputs": [
    {
     "name": "stdout",
     "output_type": "stream",
     "text": [
      "Writing twitter_spidering.py\n"
     ]
    }
   ],
   "source": [
    "%%writefile twitter_spidering.py\n",
    "\n",
    "from urllib.request import urlopen\n",
    "import urllib.error\n",
    "import twurl\n",
    "import json\n",
    "import sqlite3\n",
    "import ssl\n",
    "\n",
    "TWITTER_URL = 'https://api.twitter.com/1.1/friends/list.json'\n",
    "\n",
    "conn = sqlite3.connect('spider.sqlite')\n",
    "cur = conn.cursor()\n",
    "\n",
    "cur.execute('''\n",
    "            CREATE TABLE IF NOT EXISTS Twitter\n",
    "            (name TEXT, retrieved INTEGER, friends INTEGER)''')\n",
    "\n",
    "# Ignore SSL certificate errors\n",
    "ctx = ssl.create_default_context()\n",
    "ctx.check_hostname = False\n",
    "ctx.verify_mode = ssl.CERT_NONE\n",
    "\n",
    "while True:\n",
    "    acct = input('Enter a Twitter account, or quit: ')\n",
    "    if (acct == 'quit'): break\n",
    "    if (len(acct) < 1):\n",
    "        cur.execute('SELECT name FROM Twitter WHERE retrieved = 0 LIMIT 1')\n",
    "        try:\n",
    "            acct = cur.fetchone()[0]\n",
    "        except:\n",
    "            print('No unretrieved Twitter accounts found')\n",
    "            continue\n",
    "\n",
    "    url = twurl.augment(TWITTER_URL, {'screen_name': acct, 'count': '5'})\n",
    "    print('Retrieving', url)\n",
    "    connection = urlopen(url, context=ctx)\n",
    "    data = connection.read().decode()\n",
    "    headers = dict(connection.getheaders())\n",
    "\n",
    "    print('Remaining', headers['x-rate-limit-remaining'])\n",
    "    js = json.loads(data)\n",
    "    # Debugging\n",
    "    # print json.dumps(js, indent=4)\n",
    "\n",
    "    cur.execute('UPDATE Twitter SET retrieved=1 WHERE name = ?', (acct, ))\n",
    "\n",
    "    countnew = 0\n",
    "    countold = 0\n",
    "    for u in js['users']:\n",
    "        friend = u['screen_name']\n",
    "        print(friend)\n",
    "        cur.execute('SELECT friends FROM Twitter WHERE name = ? LIMIT 1',\n",
    "                    (friend, ))\n",
    "        try:\n",
    "            count = cur.fetchone()[0]\n",
    "            cur.execute('UPDATE Twitter SET friends = ? WHERE name = ?',\n",
    "                        (count+1, friend))\n",
    "            countold = countold + 1\n",
    "        except:\n",
    "            cur.execute('''INSERT INTO Twitter (name, retrieved, friends)\n",
    "                        VALUES (?, 0, 1)''', (friend, ))\n",
    "            countnew = countnew + 1\n",
    "    print('New accounts=', countnew, ' revisited=', countold)\n",
    "    conn.commit()\n",
    "\n",
    "cur.close()"
   ]
  },
  {
   "cell_type": "code",
   "execution_count": 56,
   "metadata": {},
   "outputs": [],
   "source": [
    "# a python wrapper around twitter\n",
    "# !pip install python-twitter\n",
    "# gem install twurl"
   ]
  },
  {
   "cell_type": "code",
   "execution_count": 60,
   "metadata": {},
   "outputs": [
    {
     "name": "stdout",
     "output_type": "stream",
     "text": [
      "Enter a Twitter account, or quit: @sudheernaidu19\n"
     ]
    },
    {
     "ename": "AttributeError",
     "evalue": "module 'twitter' has no attribute 'augment'",
     "output_type": "error",
     "traceback": [
      "\u001b[1;31m---------------------------------------------------------------------------\u001b[0m",
      "\u001b[1;31mAttributeError\u001b[0m                            Traceback (most recent call last)",
      "\u001b[1;32m<ipython-input-60-d68928f3ddc7>\u001b[0m in \u001b[0;36m<module>\u001b[1;34m()\u001b[0m\n\u001b[0;32m     33\u001b[0m             \u001b[1;32mcontinue\u001b[0m\u001b[1;33m\u001b[0m\u001b[0m\n\u001b[0;32m     34\u001b[0m \u001b[1;33m\u001b[0m\u001b[0m\n\u001b[1;32m---> 35\u001b[1;33m     \u001b[0murl\u001b[0m \u001b[1;33m=\u001b[0m \u001b[0mtwurl\u001b[0m\u001b[1;33m.\u001b[0m\u001b[0maugment\u001b[0m\u001b[1;33m(\u001b[0m\u001b[0mTWITTER_URL\u001b[0m\u001b[1;33m,\u001b[0m \u001b[1;33m{\u001b[0m\u001b[1;34m'screen_name'\u001b[0m\u001b[1;33m:\u001b[0m \u001b[0macct\u001b[0m\u001b[1;33m,\u001b[0m \u001b[1;34m'count'\u001b[0m\u001b[1;33m:\u001b[0m \u001b[1;34m'5'\u001b[0m\u001b[1;33m}\u001b[0m\u001b[1;33m)\u001b[0m\u001b[1;33m\u001b[0m\u001b[0m\n\u001b[0m\u001b[0;32m     36\u001b[0m     \u001b[0mprint\u001b[0m\u001b[1;33m(\u001b[0m\u001b[1;34m'Retrieving'\u001b[0m\u001b[1;33m,\u001b[0m \u001b[0murl\u001b[0m\u001b[1;33m)\u001b[0m\u001b[1;33m\u001b[0m\u001b[0m\n\u001b[0;32m     37\u001b[0m     \u001b[0mconnection\u001b[0m \u001b[1;33m=\u001b[0m \u001b[0murlopen\u001b[0m\u001b[1;33m(\u001b[0m\u001b[0murl\u001b[0m\u001b[1;33m,\u001b[0m \u001b[0mcontext\u001b[0m\u001b[1;33m=\u001b[0m\u001b[0mctx\u001b[0m\u001b[1;33m)\u001b[0m\u001b[1;33m\u001b[0m\u001b[0m\n",
      "\u001b[1;31mAttributeError\u001b[0m: module 'twitter' has no attribute 'augment'"
     ]
    }
   ],
   "source": [
    "# %load twitter_spidering.py\n",
    "\n",
    "from urllib.request import urlopen\n",
    "import urllib.error\n",
    "import twitter as twurl\n",
    "import json\n",
    "import sqlite3\n",
    "import ssl\n",
    "\n",
    "TWITTER_URL = 'https://api.twitter.com/1.1/friends/list.json'\n",
    "\n",
    "conn = sqlite3.connect('spider.sqlite')\n",
    "cur = conn.cursor()\n",
    "\n",
    "cur.execute('''\n",
    "            CREATE TABLE IF NOT EXISTS Twitter\n",
    "            (name TEXT, retrieved INTEGER, friends INTEGER)''')\n",
    "\n",
    "# Ignore SSL certificate errors\n",
    "ctx = ssl.create_default_context()\n",
    "ctx.check_hostname = False\n",
    "ctx.verify_mode = ssl.CERT_NONE\n",
    "\n",
    "while True:\n",
    "    acct = input('Enter a Twitter account, or quit: ')\n",
    "    if (acct == 'quit'): break\n",
    "    if (len(acct) < 1):\n",
    "        cur.execute('SELECT name FROM Twitter WHERE retrieved = 0 LIMIT 1')\n",
    "        try:\n",
    "            acct = cur.fetchone()[0]\n",
    "        except:\n",
    "            print('No unretrieved Twitter accounts found')\n",
    "            continue\n",
    "\n",
    "    url = twurl.augment(TWITTER_URL, {'screen_name': acct, 'count': '5'})\n",
    "    print('Retrieving', url)\n",
    "    connection = urlopen(url, context=ctx)\n",
    "    data = connection.read().decode()\n",
    "    headers = dict(connection.getheaders())\n",
    "\n",
    "    print('Remaining', headers['x-rate-limit-remaining'])\n",
    "    js = json.loads(data)\n",
    "    # Debugging\n",
    "    # print json.dumps(js, indent=4)\n",
    "\n",
    "    cur.execute('UPDATE Twitter SET retrieved=1 WHERE name = ?', (acct, ))\n",
    "\n",
    "    countnew = 0\n",
    "    countold = 0\n",
    "    for u in js['users']:\n",
    "        friend = u['screen_name']\n",
    "        print(friend)\n",
    "        cur.execute('SELECT friends FROM Twitter WHERE name = ? LIMIT 1',\n",
    "                    (friend, ))\n",
    "        try:\n",
    "            count = cur.fetchone()[0]\n",
    "            cur.execute('UPDATE Twitter SET friends = ? WHERE name = ?',\n",
    "                        (count+1, friend))\n",
    "            countold = countold + 1\n",
    "        except:\n",
    "            cur.execute('''INSERT INTO Twitter (name, retrieved, friends)\n",
    "                        VALUES (?, 0, 1)''', (friend, ))\n",
    "            countnew = countnew + 1\n",
    "    print('New accounts=', countnew, ' revisited=', countold)\n",
    "    conn.commit()\n",
    "\n",
    "cur.close()"
   ]
  },
  {
   "cell_type": "code",
   "execution_count": null,
   "metadata": {},
   "outputs": [],
   "source": []
  }
 ],
 "metadata": {
  "kernelspec": {
   "display_name": "Python 3",
   "language": "python",
   "name": "python3"
  },
  "language_info": {
   "codemirror_mode": {
    "name": "ipython",
    "version": 3
   },
   "file_extension": ".py",
   "mimetype": "text/x-python",
   "name": "python",
   "nbconvert_exporter": "python",
   "pygments_lexer": "ipython3",
   "version": "3.6.5"
  }
 },
 "nbformat": 4,
 "nbformat_minor": 2
}
